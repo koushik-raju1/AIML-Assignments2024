{
 "cells": [
  {
   "cell_type": "code",
   "execution_count": 4,
   "metadata": {},
   "outputs": [
    {
     "name": "stdout",
     "output_type": "stream",
     "text": [
      "Breadth First Traversal:\n",
      "0 1 3 2 4 5 "
     ]
    }
   ],
   "source": [
    "from collections import deque\n",
    "\n",
    "def bfs(graph, start):\n",
    "    visited = set()  # Set to keep track of visited nodes\n",
    "    queue = deque([start])  # Initialize the queue with the starting node\n",
    "    visited.add(start)  # Mark the starting node as visited\n",
    "\n",
    "    while queue:\n",
    "        current_node = queue.popleft()  # Dequeue the front node\n",
    "        print(current_node, end=\" \")  # Print the value of the current node\n",
    "\n",
    "        # Explore neighbors of the current node\n",
    "        for neighbor in graph[current_node]:\n",
    "            if neighbor not in visited:\n",
    "                visited.add(neighbor)\n",
    "                queue.append(neighbor)\n",
    "\n",
    "# Example usage:\n",
    "if __name__ == \"__main__\":\n",
    "    # Create an adjacency list (graph)\n",
    "    graph = {\n",
    "        0: [1, 3],\n",
    "        1: [2, 4],\n",
    "        2: [5],\n",
    "        3: [1, 2],\n",
    "        4: [],\n",
    "        5: []\n",
    "    }\n",
    "\n",
    "    print(\"Breadth First Traversal:\")\n",
    "    bfs(graph, 0)\n"
   ]
  },
  {
   "cell_type": "code",
   "execution_count": 1,
   "metadata": {},
   "outputs": [
    {
     "name": "stdout",
     "output_type": "stream",
     "text": [
      "Depth First Algorithm:\n",
      "A B S D C G E F H "
     ]
    }
   ],
   "source": [
    "from collections import deque\n",
    "\n",
    "class Graph:\n",
    "    def __init__(self, graph_dict=None):\n",
    "        if graph_dict is None:\n",
    "            graph_dict = {}\n",
    "        self.graph_dict = graph_dict\n",
    "\n",
    "    def bfs(self, start):\n",
    "        visited = set()\n",
    "        queue = deque([start])\n",
    "        visited.add(start)\n",
    "\n",
    "        while queue:\n",
    "            current_node = queue.popleft()\n",
    "            print(current_node, end=\" \")  # Print the value of the current node\n",
    "\n",
    "            for neighbor in self.graph_dict[current_node]:\n",
    "                if neighbor not in visited:\n",
    "                    visited.add(neighbor)\n",
    "                    queue.append(neighbor)\n",
    "\n",
    "# Example usage:\n",
    "if __name__ == \"__main__\":\n",
    "    graph_elements = {\n",
    "        \"A\": [\"B\", \"S\"],\n",
    "        \"B\": [\"A\", \"D\", \"C\"],\n",
    "        \"C\": [\"B\", \"E\"],\n",
    "        \"D\": [\"B\"],\n",
    "        \"E\": [\"C\", \"F\", \"H\"],\n",
    "        \"F\": [\"E\", \"G\"],\n",
    "        \"G\": [\"F\"],\n",
    "        \"H\": [\"E\"],\n",
    "        \"S\": [\"A\", \"G\"]\n",
    "    }\n",
    "\n",
    "    g = Graph(graph_elements)\n",
    "    print(\"Depth First Algorithm:\")\n",
    "    g.bfs(\"A\")\n"
   ]
  },
  {
   "cell_type": "code",
   "execution_count": 11,
   "metadata": {},
   "outputs": [
    {
     "name": "stdout",
     "output_type": "stream",
     "text": [
      "INITIAL STATE\n",
      "[[1 8 7]\n",
      " [4 2 3]\n",
      " [6 5 0]]\n",
      "\n",
      "FINAL STATE\n",
      "[[1 2 3]\n",
      " [8 0 4]\n",
      " [7 6 5]]\n",
      "\n",
      "SOLUTION:\n"
     ]
    }
   ],
   "source": [
    "import numpy as np\n",
    "\n",
    "# Heuristic function using Manhattan distance\n",
    "def heuristic(state):\n",
    "    goal_state = np.array([[1, 2, 3], [4, 5, 6], [7, 8, 0]])\n",
    "    return np.sum(np.abs(state - goal_state))\n",
    "\n",
    "# A* algorithm for 8-puzzle problem\n",
    "def a_star(initial_state):\n",
    "    frontier = [(heuristic(initial_state), 0, initial_state, [])]\n",
    "    explored = set()\n",
    "\n",
    "    while frontier:\n",
    "        _, cost, state, path = min(frontier)\n",
    "        frontier.remove((_, cost, state, path))\n",
    "\n",
    "        if np.array_equal(state, goal_state):\n",
    "            return path + [state]\n",
    "\n",
    "        explored.add(tuple(state.reshape(-1)))\n",
    "\n",
    "        for neighbor, move in gen_neighbors(state):\n",
    "            if tuple(neighbor.reshape(-1)) in explored:\n",
    "                continue\n",
    "\n",
    "            neighbor_cost = cost + 1\n",
    "            frontier.append((heuristic(neighbor) + neighbor_cost,\n",
    "                             neighbor_cost,\n",
    "                             neighbor,\n",
    "                             path + [move]))\n",
    "\n",
    "    return []\n",
    "\n",
    "# Generate neighbors and corresponding moves for a given state\n",
    "def gen_neighbors(state):\n",
    "    zero_index = np.where(state == 0)\n",
    "    zero_row, zero_col = zero_index[0][0], zero_index[1][0]\n",
    "\n",
    "    neighbors = [np.zeros_like(state)] * 4\n",
    "    moves = [(0, -1), (-1, 0), (0, 1), (1, 0)]\n",
    "\n",
    "    for i, (row_offset, col_offset) in enumerate(moves):\n",
    "        new_row, new_col = zero_row + row_offset, zero_col + col_offset\n",
    "        if 0 <= new_row < 3 and 0 <= new_col < 3:\n",
    "            neighbors[i][zero_row, zero_col] = state[new_row, new_col]\n",
    "            neighbors[i][new_row, new_col] = 0\n",
    "            yield neighbors[i], f'move {i+1}'\n",
    "\n",
    "# Initialize the puzzle\n",
    "goal_state = np.array([[1, 2, 3], [8, 0, 4], [7, 6, 5]])\n",
    "initial_state = np.array([[1, 8, 7], [4, 2, 3], [6, 5, 0]])\n",
    "\n",
    "# Find the solution using A* algorithm\n",
    "solution = a_star(initial_state)\n",
    "\n",
    "# Print the solution\n",
    "print('INITIAL STATE')\n",
    "print(initial_state)\n",
    "print('\\nFINAL STATE')\n",
    "print(goal_state)\n",
    "print('\\nSOLUTION:')\n",
    "for i, state in enumerate(solution):\n",
    "    print(f'Step {i+1}:')\n",
    "    print(state)"
   ]
  }
 ],
 "metadata": {
  "kernelspec": {
   "display_name": "Python 3",
   "language": "python",
   "name": "python3"
  },
  "language_info": {
   "codemirror_mode": {
    "name": "ipython",
    "version": 3
   },
   "file_extension": ".py",
   "mimetype": "text/x-python",
   "name": "python",
   "nbconvert_exporter": "python",
   "pygments_lexer": "ipython3",
   "version": "3.10.13"
  }
 },
 "nbformat": 4,
 "nbformat_minor": 2
}
